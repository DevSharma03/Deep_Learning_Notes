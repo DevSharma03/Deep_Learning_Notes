{
 "cells": [
  {
   "cell_type": "markdown",
   "id": "6a8a0599",
   "metadata": {},
   "source": [
    "# Youtube Code"
   ]
  },
  {
   "cell_type": "code",
   "execution_count": 1,
   "id": "2b906dd5",
   "metadata": {},
   "outputs": [],
   "source": [
    "import numpy as np\n",
    "import pandas as pd\n",
    "from sklearn.model_selection import train_test_split\n",
    "from sklearn.preprocessing import StandardScaler, LabelEncoder, OneHotEncoder\n",
    "from sklearn.compose import ColumnTransformer\n",
    "from tensorflow.keras.models import Sequential\n",
    "from tensorflow.keras.layers import Dense, Dropout"
   ]
  },
  {
   "cell_type": "markdown",
   "id": "3e6727ac",
   "metadata": {},
   "source": [
    "Step 2: Load Dataset"
   ]
  },
  {
   "cell_type": "code",
   "execution_count": 2,
   "id": "694acf18",
   "metadata": {},
   "outputs": [],
   "source": [
    "# Load dataset\n",
    "dataset = pd.read_csv(\"Churn_Modelling.csv\")\n",
    "\n",
    "# Features (X) and Target (y)\n",
    "X = dataset.iloc[:, 3:13].values   # Columns 3 to 12 (independent variables)\n",
    "y = dataset.iloc[:, 13].values     # Column 13 (Exited - dependent variable)"
   ]
  },
  {
   "cell_type": "markdown",
   "id": "c93accf3",
   "metadata": {},
   "source": [
    "Step 3: Encoding Categorical Data"
   ]
  },
  {
   "cell_type": "code",
   "execution_count": 3,
   "id": "45666d69",
   "metadata": {},
   "outputs": [],
   "source": [
    "# Encode Gender\n",
    "le = LabelEncoder()\n",
    "X[:, 2] = le.fit_transform(X[:, 2])\n",
    "\n",
    "# OneHotEncode Geography column\n",
    "ct = ColumnTransformer(\n",
    "    transformers=[('encoder', OneHotEncoder(drop='first'), [1])], \n",
    "    remainder='passthrough'\n",
    ")\n",
    "X = np.array(ct.fit_transform(X))\n"
   ]
  },
  {
   "cell_type": "markdown",
   "id": "ffd838d1",
   "metadata": {},
   "source": [
    "Step 4: Train-Test Split and Feature Scaling"
   ]
  },
  {
   "cell_type": "code",
   "execution_count": 4,
   "id": "56b86bdf",
   "metadata": {},
   "outputs": [],
   "source": [
    "# Train-test split\n",
    "X_train, X_test, y_train, y_test = train_test_split(\n",
    "    X, y, test_size=0.2, random_state=0\n",
    ")\n",
    "\n",
    "# Feature scaling\n",
    "sc = StandardScaler()\n",
    "X_train = sc.fit_transform(X_train)\n",
    "X_test = sc.transform(X_test)\n"
   ]
  },
  {
   "cell_type": "markdown",
   "id": "fdf6e330",
   "metadata": {},
   "source": [
    "Step 5: Building the ANN"
   ]
  },
  {
   "cell_type": "code",
   "execution_count": null,
   "id": "5424be16",
   "metadata": {},
   "outputs": [
    {
     "name": "stderr",
     "output_type": "stream",
     "text": [
      "C:\\Users\\Dev\\AppData\\Local\\Packages\\PythonSoftwareFoundation.Python.3.11_qbz5n2kfra8p0\\LocalCache\\local-packages\\Python311\\site-packages\\keras\\src\\layers\\core\\dense.py:92: UserWarning: Do not pass an `input_shape`/`input_dim` argument to a layer. When using Sequential models, prefer using an `Input(shape)` object as the first layer in the model instead.\n",
      "  super().__init__(activity_regularizer=activity_regularizer, **kwargs)\n"
     ]
    }
   ],
   "source": [
    "# Initialize ANN\n",
    "model = Sequential()\n",
    "\n",
    "# Input + Hidden Layer 1\n",
    "model.add(Dense(units=6, activation='relu', input_dim=X_train.shape[1]))  # We only need to define the input dimention at the start after that we do not need to define it.\n",
    "\n",
    "# Hidden Layer 2\n",
    "model.add(Dense(units=6, activation='relu'))\n",
    "\n",
    "# Output Layer\n",
    "model.add(Dense(units=1, activation='sigmoid'))  # sigmoid for binary classification\n",
    "\n",
    "# Compile ANN\n",
    "model.compile(optimizer='adam', loss='binary_crossentropy', metrics=['accuracy'])  # er used binary crossentropy as the desired output is in binary format"
   ]
  },
  {
   "cell_type": "markdown",
   "id": "91cad218",
   "metadata": {},
   "source": [
    "Step 6: Training the ANN"
   ]
  },
  {
   "cell_type": "code",
   "execution_count": 9,
   "id": "302a00b4",
   "metadata": {},
   "outputs": [
    {
     "name": "stdout",
     "output_type": "stream",
     "text": [
      "Epoch 1/10\n",
      "\u001b[1m64/64\u001b[0m \u001b[32m━━━━━━━━━━━━━━━━━━━━\u001b[0m\u001b[37m\u001b[0m \u001b[1m0s\u001b[0m 3ms/step - accuracy: 0.8658 - loss: 0.3316 - val_accuracy: 0.8525 - val_loss: 0.3534\n",
      "Epoch 2/10\n",
      "\u001b[1m64/64\u001b[0m \u001b[32m━━━━━━━━━━━━━━━━━━━━\u001b[0m\u001b[37m\u001b[0m \u001b[1m0s\u001b[0m 2ms/step - accuracy: 0.8656 - loss: 0.3314 - val_accuracy: 0.8550 - val_loss: 0.3538\n",
      "Epoch 3/10\n",
      "\u001b[1m64/64\u001b[0m \u001b[32m━━━━━━━━━━━━━━━━━━━━\u001b[0m\u001b[37m\u001b[0m \u001b[1m0s\u001b[0m 3ms/step - accuracy: 0.8656 - loss: 0.3317 - val_accuracy: 0.8569 - val_loss: 0.3543\n",
      "Epoch 4/10\n",
      "\u001b[1m64/64\u001b[0m \u001b[32m━━━━━━━━━━━━━━━━━━━━\u001b[0m\u001b[37m\u001b[0m \u001b[1m0s\u001b[0m 3ms/step - accuracy: 0.8658 - loss: 0.3316 - val_accuracy: 0.8537 - val_loss: 0.3539\n",
      "Epoch 5/10\n",
      "\u001b[1m64/64\u001b[0m \u001b[32m━━━━━━━━━━━━━━━━━━━━\u001b[0m\u001b[37m\u001b[0m \u001b[1m0s\u001b[0m 3ms/step - accuracy: 0.8658 - loss: 0.3313 - val_accuracy: 0.8550 - val_loss: 0.3538\n",
      "Epoch 6/10\n",
      "\u001b[1m64/64\u001b[0m \u001b[32m━━━━━━━━━━━━━━━━━━━━\u001b[0m\u001b[37m\u001b[0m \u001b[1m0s\u001b[0m 3ms/step - accuracy: 0.8666 - loss: 0.3315 - val_accuracy: 0.8562 - val_loss: 0.3538\n",
      "Epoch 7/10\n",
      "\u001b[1m64/64\u001b[0m \u001b[32m━━━━━━━━━━━━━━━━━━━━\u001b[0m\u001b[37m\u001b[0m \u001b[1m0s\u001b[0m 3ms/step - accuracy: 0.8666 - loss: 0.3313 - val_accuracy: 0.8562 - val_loss: 0.3539\n",
      "Epoch 8/10\n",
      "\u001b[1m64/64\u001b[0m \u001b[32m━━━━━━━━━━━━━━━━━━━━\u001b[0m\u001b[37m\u001b[0m \u001b[1m0s\u001b[0m 3ms/step - accuracy: 0.8669 - loss: 0.3313 - val_accuracy: 0.8512 - val_loss: 0.3539\n",
      "Epoch 9/10\n",
      "\u001b[1m64/64\u001b[0m \u001b[32m━━━━━━━━━━━━━━━━━━━━\u001b[0m\u001b[37m\u001b[0m \u001b[1m0s\u001b[0m 3ms/step - accuracy: 0.8653 - loss: 0.3313 - val_accuracy: 0.8562 - val_loss: 0.3539\n",
      "Epoch 10/10\n",
      "\u001b[1m64/64\u001b[0m \u001b[32m━━━━━━━━━━━━━━━━━━━━\u001b[0m\u001b[37m\u001b[0m \u001b[1m0s\u001b[0m 3ms/step - accuracy: 0.8650 - loss: 0.3314 - val_accuracy: 0.8556 - val_loss: 0.3544\n"
     ]
    }
   ],
   "source": [
    "# Train ANN\n",
    "history = model.fit(X_train, y_train, batch_size=100, epochs=10, validation_split=0.2, verbose=1)"
   ]
  },
  {
   "cell_type": "markdown",
   "id": "50d23d1f",
   "metadata": {},
   "source": [
    "Step 7: Predictions and Evaluation"
   ]
  },
  {
   "cell_type": "code",
   "execution_count": null,
   "id": "42b5248b",
   "metadata": {},
   "outputs": [
    {
     "name": "stdout",
     "output_type": "stream",
     "text": [
      "\u001b[1m63/63\u001b[0m \u001b[32m━━━━━━━━━━━━━━━━━━━━\u001b[0m\u001b[37m\u001b[0m \u001b[1m0s\u001b[0m 1ms/step  \n",
      "Confusion Matrix:\n",
      " [[1505   90]\n",
      " [ 192  213]]\n",
      "Accuracy: 85.90%\n"
     ]
    }
   ],
   "source": [
    "# Predicting probabilities\n",
    "y_pred = model.predict(X_test)\n",
    "y_pred = (y_pred > 0.5)   # Convert probabilities to binary output\n",
    "\n",
    "# Accuracy\n",
    "from sklearn.metrics import accuracy_score, confusion_matrix\n",
    "acc = accuracy_score(y_test, y_pred)\n",
    "cm = confusion_matrix(y_test, y_pred)\n",
    "\n",
    "print(\"Confusion Matrix:\\n\", cm)\n",
    "print(\"Accuracy: {:.2f}%\".format(acc*100))"
   ]
  }
 ],
 "metadata": {
  "kernelspec": {
   "display_name": "Python 3",
   "language": "python",
   "name": "python3"
  },
  "language_info": {
   "codemirror_mode": {
    "name": "ipython",
    "version": 3
   },
   "file_extension": ".py",
   "mimetype": "text/x-python",
   "name": "python",
   "nbconvert_exporter": "python",
   "pygments_lexer": "ipython3",
   "version": "3.11.9"
  }
 },
 "nbformat": 4,
 "nbformat_minor": 5
}
